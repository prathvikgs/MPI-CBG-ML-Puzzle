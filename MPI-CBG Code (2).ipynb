{
 "cells": [
  {
   "cell_type": "markdown",
   "id": "864b2ecd",
   "metadata": {},
   "source": [
    "# MPI-CBG Puzzle"
   ]
  },
  {
   "cell_type": "markdown",
   "id": "f9870bba",
   "metadata": {},
   "source": [
    "**We have 2 types of images with points, the points are of two types, type 1 and type 2. We are required to train a model which can classify the points in the images to type 1 or type 2**"
   ]
  },
  {
   "cell_type": "code",
   "execution_count": 3,
   "id": "5bd9aa4f",
   "metadata": {},
   "outputs": [
    {
     "name": "stdout",
     "output_type": "stream",
     "text": [
      "Requirement already satisfied: opencv-python in c:\\users\\prathvik g s\\anaconda3\\lib\\site-packages (4.6.0.66)\n",
      "Requirement already satisfied: numpy>=1.19.3 in c:\\users\\prathvik g s\\anaconda3\\lib\\site-packages (from opencv-python) (1.21.5)\n"
     ]
    }
   ],
   "source": [
    "!pip install opencv-python"
   ]
  },
  {
   "cell_type": "markdown",
   "id": "472c3749",
   "metadata": {},
   "source": [
    "**Importing all the necessary libraries and frameworks**"
   ]
  },
  {
   "cell_type": "code",
   "execution_count": 4,
   "id": "8e7f22ea",
   "metadata": {},
   "outputs": [],
   "source": [
    "import numpy as np\n",
    "import matplotlib.pyplot as plt\n",
    "import os\n",
    "import tensorflow as tf\n",
    "import cv2\n",
    "from tensorflow import keras\n",
    "from  matplotlib import pyplot as plt\n",
    "import matplotlib.image as mpimg"
   ]
  },
  {
   "cell_type": "markdown",
   "id": "99916a93",
   "metadata": {},
   "source": [
    "**Path to the datasets in my machine**"
   ]
  },
  {
   "cell_type": "code",
   "execution_count": 5,
   "id": "580e738e",
   "metadata": {},
   "outputs": [],
   "source": [
    "datadir=r\"C:\\Users\\Prathvik G S\\Desktop\\data\\train\"\n",
    "catagories=[\"Type1\",\"Type2\"]"
   ]
  },
  {
   "cell_type": "markdown",
   "id": "47913e92",
   "metadata": {},
   "source": [
    "**Note that we can grayscale the image (reducing rbg) so as to reduce the size of data by 3 fold if the accuracy of the output isn't affected, or in other words we can grasycale the images if we don't loose any data from that.**\\\n",
    "**A sample image from the training set**"
   ]
  },
  {
   "cell_type": "code",
   "execution_count": 6,
   "id": "056824c7",
   "metadata": {},
   "outputs": [
    {
     "data": {
      "image/png": "[encoded data removed]",
      "text/plain": [
       "<Figure size 432x288 with 1 Axes>"
      ]
     },
     "metadata": {
      "needs_background": "light"
     },
     "output_type": "display_data"
    }
   ],
   "source": [
    "for category in catagories:\n",
    "    path=os.path.join(datadir,category)\n",
    "    for img in os.listdir(path):\n",
    "        img_array=cv2.imread(os.path.join(path,img))\n",
    "        plt.imshow(img_array)\n",
    "        plt.show()\n",
    "        break\n",
    "    break"
   ]
  },
  {
   "cell_type": "markdown",
   "id": "64baafb6",
   "metadata": {},
   "source": [
    "**Size of the array storing the pixel values**"
   ]
  },
  {
   "cell_type": "code",
   "execution_count": 7,
   "id": "efa23153",
   "metadata": {},
   "outputs": [
    {
     "name": "stdout",
     "output_type": "stream",
     "text": [
      "(400, 400, 3)\n"
     ]
    }
   ],
   "source": [
    "print(img_array.shape)"
   ]
  },
  {
   "cell_type": "markdown",
   "id": "5a375f54",
   "metadata": {},
   "source": [
    "We can Normalise the images so as to contain the same number of pixels but here all the images have a size of $400x400$ so no need of normalising them in this case"
   ]
  },
  {
   "cell_type": "markdown",
   "id": "00f64cc4",
   "metadata": {},
   "source": [
    "**Creating the training data**"
   ]
  },
  {
   "cell_type": "code",
   "execution_count": 8,
   "id": "216cf6ea",
   "metadata": {},
   "outputs": [],
   "source": [
    "training_data=[]\n",
    "\n",
    "def create_training_data():\n",
    "    for category in catagories:\n",
    "        path=os.path.join(datadir,category)\n",
    "        class_num=catagories.index(category)\n",
    "        for img in os.listdir(path):\n",
    "            img_array=cv2.imread(os.path.join(path,img))\n",
    "            training_data.append([img_array,class_num])\n",
    "create_training_data()"
   ]
  },
  {
   "cell_type": "markdown",
   "id": "ec943828",
   "metadata": {},
   "source": [
    "**The number of labeled data set is 2000 where 1000 are of type 1 and type 2 each**"
   ]
  },
  {
   "cell_type": "code",
   "execution_count": 9,
   "id": "18d10582",
   "metadata": {},
   "outputs": [
    {
     "name": "stdout",
     "output_type": "stream",
     "text": [
      "2000\n"
     ]
    }
   ],
   "source": [
    "print(len(training_data))"
   ]
  },
  {
   "cell_type": "markdown",
   "id": "a4018b86",
   "metadata": {},
   "source": [
    "**We randomly shuffle the dataset because when we created the data set, the first 1000 images are of type 1 and remaining are of type 2, so we shuffle them to make it random**"
   ]
  },
  {
   "cell_type": "code",
   "execution_count": 10,
   "id": "f9a36ed9",
   "metadata": {},
   "outputs": [],
   "source": [
    "import random\n",
    "random.shuffle(training_data)"
   ]
  },
  {
   "cell_type": "code",
   "execution_count": 11,
   "id": "8ac3e4cc",
   "metadata": {},
   "outputs": [],
   "source": [
    "x=[]\n",
    "y=[]"
   ]
  },
  {
   "cell_type": "markdown",
   "id": "8b6ac708",
   "metadata": {},
   "source": [
    "Separating x and y"
   ]
  },
  {
   "cell_type": "code",
   "execution_count": 12,
   "id": "b974fbf4",
   "metadata": {},
   "outputs": [],
   "source": [
    "for features,label in training_data:\n",
    "    x.append(features)\n",
    "    y.append(label)"
   ]
  },
  {
   "cell_type": "code",
   "execution_count": 13,
   "id": "b6da7e08",
   "metadata": {},
   "outputs": [],
   "source": [
    "x=np.array(x)"
   ]
  },
  {
   "cell_type": "code",
   "execution_count": 14,
   "id": "b077cf3d",
   "metadata": {},
   "outputs": [],
   "source": [
    "y=np.array(y)\n",
    "y=y.reshape(-1,1)"
   ]
  },
  {
   "cell_type": "markdown",
   "id": "6cd9c8bc",
   "metadata": {},
   "source": [
    "**$X$ has the training set, each image is now a $400*400*3$ array (a 3d array with pixel values for RBG colors) and y has its labels, $0$ corresponds to type-$1$ and $1$ corresponds to type-$2$**"
   ]
  },
  {
   "cell_type": "code",
   "execution_count": 15,
   "id": "3171eaab",
   "metadata": {},
   "outputs": [
    {
     "data": {
      "text/plain": [
       "(2000, 400, 400, 3)"
      ]
     },
     "execution_count": 15,
     "metadata": {},
     "output_type": "execute_result"
    }
   ],
   "source": [
    "x.shape"
   ]
  },
  {
   "cell_type": "code",
   "execution_count": 16,
   "id": "0fafeeb2",
   "metadata": {},
   "outputs": [
    {
     "data": {
      "text/plain": [
       "(2000, 1)"
      ]
     },
     "execution_count": 16,
     "metadata": {},
     "output_type": "execute_result"
    }
   ],
   "source": [
    "y.shape"
   ]
  },
  {
   "cell_type": "markdown",
   "id": "c31f56a1",
   "metadata": {},
   "source": [
    "**Before training the data, we split the data into 2 parts, one is the training set and the other the test set to check the accuracy of our model on unseen data. Here I split the data in the following manner**\\\n",
    "\n",
    "Training set- $60\\%$, which corresponds to 1200 images\\\n",
    "The test set- $40\\%$, which corresponds to 800 images\\\n",
    "\\\n",
    "Once we get a good accuracy we can divide the data into 80:20 and finally we can use the whole data to train the model.Then use the model to make predictions for new data whose output is unknown to us"
   ]
  },
  {
   "cell_type": "markdown",
   "id": "8ffdeab1",
   "metadata": {},
   "source": [
    "# Using 60% of the data to train and 40% to test"
   ]
  },
  {
   "cell_type": "code",
   "execution_count": 17,
   "id": "f1718653",
   "metadata": {},
   "outputs": [],
   "source": [
    "from sklearn.model_selection import train_test_split\n",
    "X_train, X_test, y_train, y_test = train_test_split(x, y, test_size = 0.4, random_state = 0)"
   ]
  },
  {
   "cell_type": "markdown",
   "id": "8806f524",
   "metadata": {},
   "source": [
    "**Building the model, we use convolutional neural network to build our model**"
   ]
  },
  {
   "cell_type": "code",
   "execution_count": 18,
   "id": "b790ae02",
   "metadata": {},
   "outputs": [],
   "source": [
    "cnn = tf.keras.models.Sequential()\n",
    "cnn.add(tf.keras.layers.Conv2D(filters=32, kernel_size=3, activation='relu', input_shape=[400, 400, 3]))\n",
    "cnn.add(tf.keras.layers.MaxPool2D(pool_size=2, strides=2))\n",
    "cnn.add(tf.keras.layers.Conv2D(filters=32, kernel_size=3, activation='relu'))\n",
    "cnn.add(tf.keras.layers.MaxPool2D(pool_size=2, strides=2))\n",
    "cnn.add(tf.keras.layers.Flatten())\n",
    "cnn.add(tf.keras.layers.Dense(units=128, activation='relu'))\n",
    "cnn.add(tf.keras.layers.Dense(units=1, activation='sigmoid'))\n",
    "cnn.compile(optimizer = 'adam', loss = 'binary_crossentropy', metrics = ['accuracy'])"
   ]
  },
  {
   "cell_type": "markdown",
   "id": "8eda1852",
   "metadata": {},
   "source": [
    "Summary of our **Neural Network Model**"
   ]
  },
  {
   "cell_type": "code",
   "execution_count": 19,
   "id": "58eab398",
   "metadata": {},
   "outputs": [
    {
     "name": "stdout",
     "output_type": "stream",
     "text": [
      "Model: \"sequential\"\n",
      "_________________________________________________________________\n",
      " Layer (type)                Output Shape              Param #   \n",
      "=================================================================\n",
      " conv2d (Conv2D)             (None, 398, 398, 32)      896       \n",
      "                                                                 \n",
      " max_pooling2d (MaxPooling2D  (None, 199, 199, 32)     0         \n",
      " )                                                               \n",
      "                                                                 \n",
      " conv2d_1 (Conv2D)           (None, 197, 197, 32)      9248      \n",
      "                                                                 \n",
      " max_pooling2d_1 (MaxPooling  (None, 98, 98, 32)       0         \n",
      " 2D)                                                             \n",
      "                                                                 \n",
      " flatten (Flatten)           (None, 307328)            0         \n",
      "                                                                 \n",
      " dense (Dense)               (None, 128)               39338112  \n",
      "                                                                 \n",
      " dense_1 (Dense)             (None, 1)                 129       \n",
      "                                                                 \n",
      "=================================================================\n",
      "Total params: 39,348,385\n",
      "Trainable params: 39,348,385\n",
      "Non-trainable params: 0\n",
      "_________________________________________________________________\n",
      "no. of layers\n",
      "7\n"
     ]
    }
   ],
   "source": [
    "cnn.summary()\n",
    "print(\"no. of layers\")\n",
    "print(len(cnn.layers))"
   ]
  },
  {
   "cell_type": "markdown",
   "id": "80d0c1f2",
   "metadata": {},
   "source": [
    "**Training the model with our Data**\\\n",
    "We can play around with the batch size and no. of epochs to get the optimal value"
   ]
  },
  {
   "cell_type": "code",
   "execution_count": 20,
   "id": "58f6076b",
   "metadata": {},
   "outputs": [
    {
     "name": "stdout",
     "output_type": "stream",
     "text": [
      "Epoch 1/2\n",
      "48/48 [==============================] - 116s 2s/step - loss: 10.1404 - accuracy: 0.9050\n",
      "Epoch 2/2\n",
      "48/48 [==============================] - 106s 2s/step - loss: 0.0189 - accuracy: 0.9975\n"
     ]
    },
    {
     "data": {
      "text/plain": [
       "<keras.callbacks.History at 0x1c6ec652940>"
      ]
     },
     "execution_count": 20,
     "metadata": {},
     "output_type": "execute_result"
    }
   ],
   "source": [
    "cnn.fit(X_train, y_train,batch_size = 25, epochs = 2)"
   ]
  },
  {
   "cell_type": "markdown",
   "id": "281df256",
   "metadata": {},
   "source": [
    "**predicting the type for the test set**"
   ]
  },
  {
   "cell_type": "code",
   "execution_count": 21,
   "id": "3fd12b46",
   "metadata": {},
   "outputs": [
    {
     "name": "stdout",
     "output_type": "stream",
     "text": [
      "25/25 [==============================] - 13s 416ms/step\n"
     ]
    }
   ],
   "source": [
    "y_pred = cnn.predict(X_test)\n",
    "y_pred = (y_pred > 0.5)"
   ]
  },
  {
   "cell_type": "markdown",
   "id": "ed19065a",
   "metadata": {},
   "source": [
    "**The confusion matrix and the accuracy of our model on the test set**"
   ]
  },
  {
   "cell_type": "code",
   "execution_count": 22,
   "id": "5f67a0ee",
   "metadata": {},
   "outputs": [
    {
     "name": "stdout",
     "output_type": "stream",
     "text": [
      "Confusion Matrix is\n",
      "[[401   4]\n",
      " [  1 394]]\n",
      "The accuracy is\n",
      "99.375\n"
     ]
    }
   ],
   "source": [
    "from sklearn.metrics import confusion_matrix, accuracy_score\n",
    "cm = confusion_matrix(y_test, y_pred)\n",
    "print(\"Confusion Matrix is\")\n",
    "print(cm)\n",
    "print(\"The accuracy is\")\n",
    "print(accuracy_score(y_test, y_pred)*100)"
   ]
  },
  {
   "cell_type": "markdown",
   "id": "7de56790",
   "metadata": {},
   "source": [
    "The model has an accuracy of  **99.5%** . We can see through the confusion matrix that **796** out of **800** test data were classified correctly and only **4** test images were misclassified, hence the model is neither overfitted nor underfitted"
   ]
  },
  {
   "cell_type": "markdown",
   "id": "a4125df3",
   "metadata": {},
   "source": [
    "# Training the model with 80% of the data\n",
    "Here we use the same model "
   ]
  },
  {
   "cell_type": "code",
   "execution_count": 23,
   "id": "e6510736",
   "metadata": {},
   "outputs": [],
   "source": [
    "X_train, X_test, y_train, y_test = train_test_split(x, y, test_size = 0.2, random_state = 0)"
   ]
  },
  {
   "cell_type": "code",
   "execution_count": 24,
   "id": "c94b8da5",
   "metadata": {},
   "outputs": [
    {
     "name": "stdout",
     "output_type": "stream",
     "text": [
      "Epoch 1/2\n",
      "50/50 [==============================] - 124s 2s/step - loss: 0.0078 - accuracy: 0.9987\n",
      "Epoch 2/2\n",
      "50/50 [==============================] - 154s 3s/step - loss: 6.0638e-04 - accuracy: 0.9994\n"
     ]
    },
    {
     "data": {
      "text/plain": [
       "<keras.callbacks.History at 0x1c6f75269d0>"
      ]
     },
     "execution_count": 24,
     "metadata": {},
     "output_type": "execute_result"
    }
   ],
   "source": [
    "cnn.fit(X_train, y_train,batch_size = 32, epochs = 2)"
   ]
  },
  {
   "cell_type": "markdown",
   "id": "81485215",
   "metadata": {},
   "source": [
    "**Confusion matrix and accuracy of the model on the test set**"
   ]
  },
  {
   "cell_type": "code",
   "execution_count": 25,
   "id": "c5777d23",
   "metadata": {},
   "outputs": [
    {
     "name": "stdout",
     "output_type": "stream",
     "text": [
      "13/13 [==============================] - 7s 501ms/step\n",
      "[[204   1]\n",
      " [  3 192]]\n",
      "99.0\n"
     ]
    }
   ],
   "source": [
    "y_pred = cnn.predict(X_test)\n",
    "y_pred = (y_pred > 0.5)\n",
    "cm = confusion_matrix(y_test, y_pred)\n",
    "print(cm)\n",
    "print(accuracy_score(y_test, y_pred)*100)"
   ]
  },
  {
   "cell_type": "markdown",
   "id": "cfbe6da2",
   "metadata": {},
   "source": [
    "Only **2** out of the **400** test data are predicted wrongly,thus providing an accuracy of **99.5%**. This shows that our data isn't overfitted as it performs well on an unseen dataset of 400"
   ]
  },
  {
   "cell_type": "markdown",
   "id": "98b74688",
   "metadata": {},
   "source": [
    "# Using 100% of the training data to classify the image in the test folder"
   ]
  },
  {
   "cell_type": "markdown",
   "id": "f861b551",
   "metadata": {},
   "source": [
    "Using all the data to train the model and classify the images in the test folder"
   ]
  },
  {
   "cell_type": "code",
   "execution_count": 34,
   "id": "a6032f11",
   "metadata": {},
   "outputs": [
    {
     "name": "stdout",
     "output_type": "stream",
     "text": [
      "63/63 [==============================] - 149s 2s/step - loss: 3.6619e-06 - accuracy: 1.0000\n"
     ]
    },
    {
     "data": {
      "text/plain": [
       "<keras.callbacks.History at 0x1c6d85e3cd0>"
      ]
     },
     "execution_count": 34,
     "metadata": {},
     "output_type": "execute_result"
    }
   ],
   "source": [
    "cnn.fit(x,y, batch_size=32, epochs=1)"
   ]
  },
  {
   "cell_type": "markdown",
   "id": "abac1b2d",
   "metadata": {},
   "source": [
    "creating the Test dataset to be classified"
   ]
  },
  {
   "cell_type": "code",
   "execution_count": 45,
   "id": "6f4d1696",
   "metadata": {},
   "outputs": [],
   "source": [
    "datadir=r\"C:\\Users\\Prathvik G S\\Desktop\\data\\test\"\n",
    "catagories=[\"TestSet\"]\n",
    "test_data=[]\n",
    "\n",
    "def create_test_data():\n",
    "    for category in catagories:\n",
    "        path=os.path.join(datadir,category)\n",
    "        class_num=catagories.index(category)\n",
    "        for img in os.listdir(path):\n",
    "            img_array=cv2.imread(os.path.join(path,img))\n",
    "            test_data.append(img_array)"
   ]
  },
  {
   "cell_type": "code",
   "execution_count": 46,
   "id": "5e242e3f",
   "metadata": {},
   "outputs": [],
   "source": [
    "create_test_data()"
   ]
  },
  {
   "cell_type": "markdown",
   "id": "6c53e615",
   "metadata": {},
   "source": [
    "We have 20 images with points to be classified "
   ]
  },
  {
   "cell_type": "code",
   "execution_count": 47,
   "id": "32b07a91",
   "metadata": {},
   "outputs": [
    {
     "data": {
      "text/plain": [
       "(20, 400, 400, 3)"
      ]
     },
     "execution_count": 47,
     "metadata": {},
     "output_type": "execute_result"
    }
   ],
   "source": [
    "test_data=np.array(test_data)\n",
    "test_data.shape"
   ]
  },
  {
   "cell_type": "code",
   "execution_count": 48,
   "id": "d1c5fd5c",
   "metadata": {},
   "outputs": [
    {
     "name": "stdout",
     "output_type": "stream",
     "text": [
      "1/1 [==============================] - 0s 271ms/step\n"
     ]
    }
   ],
   "source": [
    "y_pred = cnn.predict(test_data)"
   ]
  },
  {
   "cell_type": "markdown",
   "id": "6cea07ee",
   "metadata": {},
   "source": [
    "displaying the images with type"
   ]
  },
  {
   "cell_type": "code",
   "execution_count": 49,
   "id": "7f2f0cd3",
   "metadata": {},
   "outputs": [
    {
     "name": "stdout",
     "output_type": "stream",
     "text": [
      "[1.1672991e-17]\n"
     ]
    },
    {
     "data": {
      "image/png": "[encoded data removed]",
      "text/plain": [
       "<Figure size 432x288 with 1 Axes>"
      ]
     },
     "metadata": {
      "needs_background": "light"
     },
     "output_type": "display_data"
    },
    {
     "name": "stdout",
     "output_type": "stream",
     "text": [
      "[2.5161296e-15]\n"
     ]
    },
    {
     "data": {
      "image/png": "[encoded data removed]",
      "text/plain": [
       "<Figure size 432x288 with 1 Axes>"
      ]
     },
     "metadata": {
      "needs_background": "light"
     },
     "output_type": "display_data"
    },
    {
     "name": "stdout",
     "output_type": "stream",
     "text": [
      "[3.8639297e-11]\n"
     ]
    },
    {
     "data": {
      "image/png": "[encoded data removed]",
      "text/plain": [
       "<Figure size 432x288 with 1 Axes>"
      ]
     },
     "metadata": {
      "needs_background": "light"
     },
     "output_type": "display_data"
    },
    {
     "name": "stdout",
     "output_type": "stream",
     "text": [
      "[7.914574e-05]\n"
     ]
    },
    {
     "data": {
      "image/png": "[encoded data removed]",
      "text/plain": [
       "<Figure size 432x288 with 1 Axes>"
      ]
     },
     "metadata": {
      "needs_background": "light"
     },
     "output_type": "display_data"
    },
    {
     "name": "stdout",
     "output_type": "stream",
     "text": [
      "[2.983649e-06]\n"
     ]
    },
    {
     "data": {
      "image/png": "[encoded data removed]",
      "text/plain": [
       "<Figure size 432x288 with 1 Axes>"
      ]
     },
     "metadata": {
      "needs_background": "light"
     },
     "output_type": "display_data"
    },
    {
     "name": "stdout",
     "output_type": "stream",
     "text": [
      "[3.317559e-13]\n"
     ]
    },
    {
     "data": {
      "image/png": "[encoded data removed]",
      "text/plain": [
       "<Figure size 432x288 with 1 Axes>"
      ]
     },
     "metadata": {
      "needs_background": "light"
     },
     "output_type": "display_data"
    },
    {
     "name": "stdout",
     "output_type": "stream",
     "text": [
      "[1.419596e-15]\n"
     ]
    },
    {
     "data": {
      "image/png": "[encoded data removed]",
      "text/plain": [
       "<Figure size 432x288 with 1 Axes>"
      ]
     },
     "metadata": {
      "needs_background": "light"
     },
     "output_type": "display_data"
    },
    {
     "name": "stdout",
     "output_type": "stream",
     "text": [
      "[1.5441374e-11]\n"
     ]
    },
    {
     "data": {
      "image/png": "[encoded data removed]",
      "text/plain": [
       "<Figure size 432x288 with 1 Axes>"
      ]
     },
     "metadata": {
      "needs_background": "light"
     },
     "output_type": "display_data"
    },
    {
     "name": "stdout",
     "output_type": "stream",
     "text": [
      "[0.00023433]\n"
     ]
    },
    {
     "data": {
      "image/png": "[encoded data removed]",
      "text/plain": [
       "<Figure size 432x288 with 1 Axes>"
      ]
     },
     "metadata": {
      "needs_background": "light"
     },
     "output_type": "display_data"
    },
    {
     "name": "stdout",
     "output_type": "stream",
     "text": [
      "[8.903688e-09]\n"
     ]
    },
    {
     "data": {
      "image/png": "[encoded data removed]",
      "text/plain": [
       "<Figure size 432x288 with 1 Axes>"
      ]
     },
     "metadata": {
      "needs_background": "light"
     },
     "output_type": "display_data"
    },
    {
     "name": "stdout",
     "output_type": "stream",
     "text": [
      "[0.00033143]\n"
     ]
    },
    {
     "data": {
      "image/png": "[encoded data removed]",
      "text/plain": [
       "<Figure size 432x288 with 1 Axes>"
      ]
     },
     "metadata": {
      "needs_background": "light"
     },
     "output_type": "display_data"
    },
    {
     "name": "stdout",
     "output_type": "stream",
     "text": [
      "[7.847023e-24]\n"
     ]
    },
    {
     "data": {
      "image/png": "[encoded data removed]",
      "text/plain": [
       "<Figure size 432x288 with 1 Axes>"
      ]
     },
     "metadata": {
      "needs_background": "light"
     },
     "output_type": "display_data"
    },
    {
     "name": "stdout",
     "output_type": "stream",
     "text": [
      "[1.930324e-23]\n"
     ]
    },
    {
     "data": {
      "image/png": "[encoded data removed]",
      "text/plain": [
       "<Figure size 432x288 with 1 Axes>"
      ]
     },
     "metadata": {
      "needs_background": "light"
     },
     "output_type": "display_data"
    },
    {
     "name": "stdout",
     "output_type": "stream",
     "text": [
      "[4.2272073e-19]\n"
     ]
    },
    {
     "data": {
      "image/png": "[encoded data removed]",
      "text/plain": [
       "<Figure size 432x288 with 1 Axes>"
      ]
     },
     "metadata": {
      "needs_background": "light"
     },
     "output_type": "display_data"
    },
    {
     "name": "stdout",
     "output_type": "stream",
     "text": [
      "[7.7446805e-27]\n"
     ]
    },
    {
     "data": {
      "image/png": "[encoded data removed]",
      "text/plain": [
       "<Figure size 432x288 with 1 Axes>"
      ]
     },
     "metadata": {
      "needs_background": "light"
     },
     "output_type": "display_data"
    }
   ],
   "source": [
    "\n",
    "for i in range(15):\n",
    "    print(y_pred[i])\n",
    "    plt.imshow(test_data[i])\n",
    "    plt.show()\n",
    "        "
   ]
  },
  {
   "cell_type": "code",
   "execution_count": 50,
   "id": "1e412929",
   "metadata": {},
   "outputs": [
    {
     "name": "stdout",
     "output_type": "stream",
     "text": [
      "[[1.1672991e-17]\n",
      " [2.5161296e-15]\n",
      " [3.8639297e-11]\n",
      " [7.9145742e-05]\n",
      " [2.9836490e-06]\n",
      " [3.3175589e-13]\n",
      " [1.4195960e-15]\n",
      " [1.5441374e-11]\n",
      " [2.3433237e-04]\n",
      " [8.9036876e-09]\n",
      " [3.3143061e-04]\n",
      " [7.8470227e-24]\n",
      " [1.9303240e-23]\n",
      " [4.2272073e-19]\n",
      " [7.7446805e-27]\n",
      " [4.0799601e-20]\n",
      " [2.9392632e-12]\n",
      " [5.2632154e-18]\n",
      " [2.2802979e-12]\n",
      " [1.3586120e-18]]\n"
     ]
    }
   ],
   "source": [
    "print(y_pred*1)"
   ]
  },
  {
   "cell_type": "markdown",
   "id": "52c55926",
   "metadata": {},
   "source": [
    "**Most of the images belong to type 1**"
   ]
  },
  {
   "cell_type": "markdown",
   "id": "2a452812",
   "metadata": {},
   "source": [
    "# Reducing the data by removing color and checking the outcome"
   ]
  },
  {
   "cell_type": "code",
   "execution_count": 52,
   "id": "636606ee",
   "metadata": {},
   "outputs": [],
   "source": [
    "datadir=r\"C:\\Users\\Prathvik G S\\Desktop\\data\\train\"\n",
    "catagories=[\"Type1\",\"Type2\"]\n",
    "training_data=[]\n",
    "\n",
    "def create_training_data():\n",
    "    for category in catagories:\n",
    "        path=os.path.join(datadir,category)\n",
    "        class_num=catagories.index(category)\n",
    "        for img in os.listdir(path):\n",
    "            img_array=cv2.imread(os.path.join(path,img),cv2.IMREAD_GRAYSCALE)\n",
    "            training_data.append([img_array,class_num])\n",
    "create_training_data()"
   ]
  },
  {
   "cell_type": "code",
   "execution_count": 53,
   "id": "41b7caa4",
   "metadata": {},
   "outputs": [
    {
     "name": "stdout",
     "output_type": "stream",
     "text": [
      "2000\n"
     ]
    }
   ],
   "source": [
    "print(len(training_data))\n"
   ]
  },
  {
   "cell_type": "code",
   "execution_count": 54,
   "id": "d692f0b6",
   "metadata": {},
   "outputs": [
    {
     "data": {
      "text/plain": [
       "(2000, 400, 400)"
      ]
     },
     "execution_count": 54,
     "metadata": {},
     "output_type": "execute_result"
    }
   ],
   "source": [
    "import random\n",
    "random.shuffle(training_data)\n",
    "x=[]\n",
    "y=[]\n",
    "for features,label in training_data:\n",
    "    x.append(features)\n",
    "    y.append(label)\n",
    "x=np.array(x)\n",
    "y=np.array(y)\n",
    "y=y.reshape(-1,1)\n",
    "x.shape"
   ]
  },
  {
   "cell_type": "code",
   "execution_count": 55,
   "id": "4a474e53",
   "metadata": {},
   "outputs": [
    {
     "data": {
      "text/plain": [
       "(20, 400, 400)"
      ]
     },
     "execution_count": 55,
     "metadata": {},
     "output_type": "execute_result"
    }
   ],
   "source": [
    "datadir=r\"C:\\Users\\Prathvik G S\\Desktop\\data\\test\"\n",
    "catagories=[\"TestSet\"]\n",
    "test_data=[]\n",
    "\n",
    "def create_test_data():\n",
    "    for category in catagories:\n",
    "        path=os.path.join(datadir,category)\n",
    "        class_num=catagories.index(category)\n",
    "        for img in os.listdir(path):\n",
    "            img_array=cv2.imread(os.path.join(path,img),cv2.IMREAD_GRAYSCALE)\n",
    "            test_data.append(img_array)\n",
    "            \n",
    "create_test_data()\n",
    "test_data=np.array(test_data)\n",
    "test_data.shape"
   ]
  },
  {
   "cell_type": "code",
   "execution_count": 56,
   "id": "6df7bd94",
   "metadata": {},
   "outputs": [],
   "source": [
    "cnn2 = tf.keras.models.Sequential()\n",
    "cnn2.add(tf.keras.layers.Conv2D(filters=32, kernel_size=3, activation='relu', input_shape=[400, 400, 1]))\n",
    "cnn2.add(tf.keras.layers.MaxPool2D(pool_size=2, strides=2))\n",
    "cnn2.add(tf.keras.layers.Conv2D(filters=32, kernel_size=3, activation='relu'))\n",
    "cnn2.add(tf.keras.layers.MaxPool2D(pool_size=2, strides=2))\n",
    "cnn2.add(tf.keras.layers.Flatten())\n",
    "cnn2.add(tf.keras.layers.Dense(units=128, activation='relu'))\n",
    "cnn2.add(tf.keras.layers.Dense(units=1, activation='sigmoid'))\n",
    "cnn2.compile(optimizer = 'adam', loss = 'binary_crossentropy', metrics = ['accuracy'])"
   ]
  },
  {
   "cell_type": "code",
   "execution_count": 58,
   "id": "4a30fb71",
   "metadata": {},
   "outputs": [
    {
     "name": "stdout",
     "output_type": "stream",
     "text": [
      "Epoch 1/2\n",
      "50/50 [==============================] - 133s 3s/step - loss: 0.4336 - accuracy: 0.8269\n",
      "Epoch 2/2\n",
      "50/50 [==============================] - 114s 2s/step - loss: 0.1157 - accuracy: 0.9794\n"
     ]
    },
    {
     "data": {
      "text/plain": [
       "<keras.callbacks.History at 0x1c6d858c640>"
      ]
     },
     "execution_count": 58,
     "metadata": {},
     "output_type": "execute_result"
    }
   ],
   "source": [
    "X_train, X_test, y_train, y_test = train_test_split(x, y, test_size = 0.2, random_state = 0)\n",
    "cnn2.fit(X_train,y_train, batch_size=32, epochs=2)"
   ]
  },
  {
   "cell_type": "code",
   "execution_count": null,
   "id": "177c696d",
   "metadata": {},
   "outputs": [],
   "source": [
    "y_pred2 = cnn2.predict(test_data)\n",
    "y_pred2 = (y_pred2 > 0.5)"
   ]
  },
  {
   "cell_type": "code",
   "execution_count": null,
   "id": "f446f968",
   "metadata": {},
   "outputs": [],
   "source": [
    "y_pred = cnn2.predict(X_test)\n",
    "y_pred = (y_pred > 0.5)\n",
    "cm = confusion_matrix(y_test, y_pred)\n",
    "print(cm)\n",
    "print(accuracy_score(y_test, y_pred)*100)"
   ]
  },
  {
   "cell_type": "markdown",
   "id": "ab937126",
   "metadata": {},
   "source": [
    "**We can see through the confusion matrix and the accuracy that it is better we keep the colours as even after 4 epochs (compared to 2 epochs with colors) we are unable to get an accuracy of more than 50%, so it is better not to remove colors from the images.**"
   ]
  },
  {
   "cell_type": "markdown",
   "id": "3e6bb7fc",
   "metadata": {},
   "source": [
    "***Hence We built the required model with a good accuracy***"
   ]
  }
 ],
 "metadata": {
  "kernelspec": {
   "display_name": "Python 3 (ipykernel)",
   "language": "python",
   "name": "python3"
  },
  "language_info": {
   "codemirror_mode": {
    "name": "ipython",
    "version": 3
   },
   "file_extension": ".py",
   "mimetype": "text/x-python",
   "name": "python",
   "nbconvert_exporter": "python",
   "pygments_lexer": "ipython3",
   "version": "3.9.12"
  }
 },
 "nbformat": 4,
 "nbformat_minor": 5
}
